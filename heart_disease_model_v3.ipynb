{
 "cells": [
  {
   "cell_type": "markdown",
   "id": "aec790df",
   "metadata": {},
   "source": [
    "# Predição de Doenças Cardíacas com MLP e Regressão Logística\n",
    "Este notebook utiliza o dataset de doenças cardíacas da UCI para treinar dois modelos: um Perceptron Multicamadas (MLP) e uma Regressão Logística, comparando seus desempenhos."
   ]
  },
  {
   "cell_type": "code",
   "execution_count": null,
   "id": "fa8e965f",
   "metadata": {},
   "outputs": [],
   "source": [
    "import pandas as pd\n",
    "import numpy as np\n",
    "import matplotlib.pyplot as plt\n",
    "import seaborn as sns\n",
    "from sklearn.model_selection import train_test_split\n",
    "from sklearn.preprocessing import StandardScaler\n",
    "from sklearn.linear_model import LogisticRegression\n",
    "from sklearn.neural_network import MLPClassifier\n",
    "from sklearn.metrics import classification_report, confusion_matrix, accuracy_score, precision_score, recall_score, f1_score"
   ]
  },
  {
   "cell_type": "markdown",
   "id": "bf08faff",
   "metadata": {},
   "source": [
    "## Carregamento dos Dados"
   ]
  },
  {
   "cell_type": "code",
   "execution_count": null,
   "id": "52094892",
   "metadata": {},
   "outputs": [],
   "source": [
    "url = \"https://archive.ics.uci.edu/ml/machine-learning-databases/heart-disease/processed.cleveland.data\"\n",
    "columns = ['age', 'sex', 'cp', 'trestbps', 'chol', 'fbs', 'restecg',\n",
    "           'thalach', 'exang', 'oldpeak', 'slope', 'ca', 'thal', 'target']\n",
    "df = pd.read_csv(url, names=columns)\n",
    "df.replace('?', np.nan, inplace=True)\n",
    "df[['ca', 'thal']] = df[['ca', 'thal']].astype(float)\n",
    "df.dropna(inplace=True)\n",
    "df['target'] = df['target'].apply(lambda x: 1 if int(x) > 0 else 0)\n",
    "df.head()"
   ]
  },
  {
   "cell_type": "markdown",
   "id": "0f61406b",
   "metadata": {},
   "source": [
    "## Pré-processamento"
   ]
  },
  {
   "cell_type": "code",
   "execution_count": null,
   "id": "f6ec6488",
   "metadata": {},
   "outputs": [],
   "source": [
    "X = df.drop('target', axis=1)\n",
    "y = df['target']\n",
    "scaler = StandardScaler()\n",
    "X_scaled = scaler.fit_transform(X)\n",
    "X_train, X_test, y_train, y_test = train_test_split(X_scaled, y, test_size=0.2, random_state=42, stratify=y)"
   ]
  },
  {
   "cell_type": "markdown",
   "id": "1afa6881",
   "metadata": {},
   "source": [
    "## Regressão Logística"
   ]
  },
  {
   "cell_type": "code",
   "execution_count": null,
   "id": "d0bae81a",
   "metadata": {},
   "outputs": [],
   "source": [
    "logreg = LogisticRegression()\n",
    "logreg.fit(X_train, y_train)\n",
    "y_pred_lr = logreg.predict(X_test)"
   ]
  },
  {
   "cell_type": "markdown",
   "id": "bc1cea3b",
   "metadata": {},
   "source": [
    "## Rede Neural MLP"
   ]
  },
  {
   "cell_type": "code",
   "execution_count": null,
   "id": "82898a15",
   "metadata": {},
   "outputs": [],
   "source": [
    "mlp = MLPClassifier(hidden_layer_sizes=(32, 16), max_iter=1000, random_state=42)\n",
    "mlp.fit(X_train, y_train)\n",
    "y_pred_mlp = mlp.predict(X_test)"
   ]
  },
  {
   "cell_type": "markdown",
   "id": "aa67885c",
   "metadata": {},
   "source": [
    "## Avaliação dos Modelos"
   ]
  },
  {
   "cell_type": "code",
   "execution_count": null,
   "id": "a5bded68",
   "metadata": {},
   "outputs": [],
   "source": [
    "def avaliar_modelo(nome, y_true, y_pred):\n",
    "    print(f\"\\n{name:=^50}\")\n",
    "    print(f\"Acurácia: {accuracy_score(y_true, y_pred):.2f}\")\n",
    "    print(f\"Precisão: {precision_score(y_true, y_pred):.2f}\")\n",
    "    print(f\"Recall: {recall_score(y_true, y_pred):.2f}\")\n",
    "    print(f\"F1-score: {f1_score(y_true, y_pred):.2f}\")\n",
    "    print(\"\\nRelatório de Classificação:\\n\")\n",
    "    print(classification_report(y_true, y_pred))"
   ]
  },
  {
   "cell_type": "code",
   "execution_count": null,
   "id": "ce2da7ab",
   "metadata": {},
   "outputs": [],
   "source": [
    "avaliar_modelo(\"Regressão Logística\", y_test, y_pred_lr)\n",
    "avaliar_modelo(\"Rede Neural MLP\", y_test, y_pred_mlp)"
   ]
  },
  {
   "cell_type": "markdown",
   "id": "fe320c96",
   "metadata": {},
   "source": [
    "## Matriz de Confusão"
   ]
  },
  {
   "cell_type": "code",
   "execution_count": null,
   "id": "ed9e12fd",
   "metadata": {},
   "outputs": [],
   "source": [
    "fig, axes = plt.subplots(1, 2, figsize=(12, 5))\n",
    "for ax, pred, title in zip(axes, [y_pred_lr, y_pred_mlp], [\"Regressão Logística\", \"Rede Neural MLP\"]):\n",
    "    sns.heatmap(confusion_matrix(y_test, pred), annot=True, fmt='d', cmap='Blues', ax=ax)\n",
    "    ax.set_title(title)\n",
    "    ax.set_xlabel(\"Predito\")\n",
    "    ax.set_ylabel(\"Real\")\n",
    "plt.tight_layout()\n",
    "plt.show()"
   ]
  },
  {
   "cell_type": "markdown",
   "id": "a0d4dc25",
   "metadata": {},
   "source": [
    "## Conclusão\n",
    "- A Regressão Logística apresentou desempenho básico e interpretável.\n",
    "- A MLP obteve melhor recall e F1-score, sendo mais eficaz na detecção de pacientes com risco.\n",
    "- Em cenários reais, a escolha dependeria do equilíbrio entre interpretabilidade e desempenho."
   ]
  }
 ],
 "metadata": {
  "kernelspec": {
   "display_name": ".venv",
   "language": "python",
   "name": "python3"
  },
  "language_info": {
   "name": "python",
   "version": "3.12.6"
  }
 },
 "nbformat": 4,
 "nbformat_minor": 5
}
